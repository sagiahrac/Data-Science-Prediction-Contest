{
 "cells": [
  {
   "cell_type": "markdown",
   "metadata": {},
   "source": [
    "## ML for Prediction\n",
    "\n",
    "### Just For Fun\n",
    "\n",
    "First, let's try a zero-shot learning approach. We will use the pre-trained model, GPT, to predict the class based on the 'brand' and 'description' columns."
   ]
  },
  {
   "cell_type": "code",
   "execution_count": 2,
   "metadata": {},
   "outputs": [],
   "source": [
    "\n",
    "import pandas as pd\n",
    "from sklearn.model_selection import train_test_split\n",
    "\n",
    "\n",
    "def get_train_val_test():\n",
    "    food_train = pd.read_csv(\"data/food_train.csv\")\n",
    "    \n",
    "    features_df = food_train.drop(\"category\", axis=1)\n",
    "    labels_df = food_train[\"category\"]\n",
    "    \n",
    "    image_scores_df = (\n",
    "        pd.read_csv(f\"data/resnet18_food_train_features_fine_tuned.csv\", index_col=0)\n",
    "        .set_index(food_train.index)\n",
    "        .drop(columns=[\"y\"])\n",
    "        .add_prefix(\"image_scores_\")\n",
    "    )\n",
    "    \n",
    "    features_df = pd.concat([features_df, image_scores_df], axis=1)\n",
    "    \n",
    "    \n",
    "    X_train, X_val_test, y_train, y_val_test = train_test_split(\n",
    "        features_df, labels_df, test_size=0.2, random_state=42\n",
    "    )\n",
    "    \n",
    "    \n",
    "    X_val, X_test, y_val, y_test = train_test_split(\n",
    "        X_val_test, y_val_test, test_size=0.25, random_state=42\n",
    "    )\n",
    "    \n",
    "    return X_train, X_val, X_test, y_train, y_val, y_test"
   ]
  },
  {
   "cell_type": "code",
   "execution_count": 3,
   "metadata": {},
   "outputs": [
    {
     "name": "stderr",
     "output_type": "stream",
     "text": [
      "100%|██████████| 25400/25400 [28:06<00:00, 15.06it/s]  \n",
      "100%|██████████| 4763/4763 [03:23<00:00, 23.44it/s]\n"
     ]
    }
   ],
   "source": [
    "from torchvision import models\n",
    "from resnet import get_datasets\n",
    "import torch\n",
    "from tqdm import tqdm\n",
    "\n",
    "model_ft = models.resnet18(weights=\"IMAGENET1K_V1\")\n",
    "model_ft.eval()\n",
    "\n",
    "datasets = get_datasets(X_train, y_train, X_val, y_val)\n",
    "train_ds = datasets[\"train\"]\n",
    "\n",
    "\n",
    "with torch.no_grad():\n",
    "    for phase, ds in datasets.items():\n",
    "        features, labels = [], []\n",
    "        loop = tqdm(range(len(ds)))\n",
    "        for i in loop:\n",
    "            _, image, label = ds[i]\n",
    "            resnet18_features = model_ft(image.unsqueeze(0)).squeeze(0).numpy()\n",
    "\n",
    "            features.append(resnet18_features)\n",
    "            labels.append(label)\n",
    "\n",
    "        rs18_df = pd.DataFrame(features)\n",
    "        rs18_df[\"y\"] = labels\n",
    "        rs18_df.to_csv(f\"data/resnet18_{phase}_features.csv\")"
   ]
  },
  {
   "cell_type": "markdown",
   "metadata": {},
   "source": [
    "Not too bad, but recall that we got same results with a much simpler model (Naive Bayes). Thus, we should not be too impressed by this result. I also tried to take advantage of gpt embeddings to measure cosine similarity between `description` / `brand` embedded features and the target category embeddings. This approach didn't work well, as we achieved 0.66 accuracy for embedding `brand` and `description` together, classifying by argmax of cosine similarity.\n",
    "\n",
    "I was following OpenAI's guide: https://github.com/openai/openai-cookbook/blob/main/examples/Zero-shot_classification_with_embeddings.ipynb\n",
    "\n",
    "All code is available at helpers/chatgpt.py."
   ]
  },
  {
   "cell_type": "markdown",
   "metadata": {},
   "source": [
    "## Baseline Model\n",
    "\n",
    "First, we need to find out how good can we predict the target variable using the features we have, without hyperparameter tuning. We will replace each textual models with the Naive Bayes model scores for each category. We'll use the same features as in the previous part.\n",
    "\n",
    "\n",
    "### Building the Pipeline"
   ]
  },
  {
   "cell_type": "code",
   "execution_count": null,
   "metadata": {},
   "outputs": [],
   "source": [
    "from sklearn.feature_extraction.text import CountVectorizer\n",
    "\n",
    "train_sentences = X_train[\"description\"]\n",
    "val_sentences = X_val[\"description\"]\n",
    "\n",
    "vectorizer = CountVectorizer(\n",
    "    stop_words=\"english\", ngram_range=(1, 6), strip_accents=\"unicode\", min_df=60\n",
    ")\n",
    "train_matrix = vectorizer.fit_transform(train_sentences).todense()\n",
    "val_matrix = vectorizer.transform(val_sentences).todense()\n",
    "\n",
    "train_matrix.shape"
   ]
  },
  {
   "cell_type": "code",
   "execution_count": 7,
   "metadata": {},
   "outputs": [
    {
     "name": "stdout",
     "output_type": "stream",
     "text": [
      "(30163, 2123)\n"
     ]
    }
   ],
   "source": [
    "\n",
    "from helpers.preprocess import (\n",
    "    FillNA,\n",
    "    MergeWithFoodNutrients,\n",
    "    CleanAndListifyIngredients,\n",
    "    NaiveBayesScores,\n",
    "    LogTransformation,\n",
    "    DropColumns,\n",
    "    AddImportantTokens,\n",
    "    StandardScale,\n",
    "    StemDescription,\n",
    ")\n",
    "from sklearn.preprocessing import PolynomialFeatures\n",
    "from imblearn.over_sampling import SMOTE\n",
    "from imblearn.pipeline import Pipeline\n",
    "\n",
    "steps = [\n",
    "    FillNA(),\n",
    "    MergeWithFoodNutrients(nutrient_min_freq=2),\n",
    "    CleanAndListifyIngredients(),\n",
    "    StemDescription(),\n",
    "    NaiveBayesScores(colname=\"brand\", preprocess_func=lambda x: x.replace(\" \", \"\"), mode=\"count\", use_tfidf=False, vectorizer_kwgs=dict(\n",
    "            stop_words=\"english\", ngram_range=(1, 6), strip_accents=\"unicode\", min_df=20\n",
    "        )),\n",
    "    NaiveBayesScores(\n",
    "        colname=\"description\",\n",
    "        vectorizer_kwgs=dict(\n",
    "            stop_words=\"english\", ngram_range=(1, 6), strip_accents=\"unicode\", min_df=50\n",
    "        ),\n",
    "        mode=\"count\",\n",
    "        use_tfidf=False,\n",
    "    ),\n",
    "    NaiveBayesScores(\n",
    "        colname=\"ingredients\",\n",
    "        vectorizer_kwgs=dict(\n",
    "            stop_words=\"english\", ngram_range=(1, 6), strip_accents=\"unicode\", min_df=50, max_df=0.6\n",
    "        ),\n",
    "        mode=\"count\",\n",
    "        use_tfidf=False,\n",
    "    ),\n",
    "    NaiveBayesScores(\n",
    "        colname=\"household_serving_fulltext\",\n",
    "        vectorizer_kwgs=dict(stop_words=\"english\", ngram_range=(1, 6), strip_accents=\"unicode\", min_df=50),\n",
    "        mode=\"count\",\n",
    "        use_tfidf=False,\n",
    "    ),\n",
    "    LogTransformation(columns=[\"serving_size\"]),\n",
    "    DropColumns(columns=[\"serving_size_unit\"]),\n",
    "]\n",
    "\n",
    "\n",
    "pipe = Pipeline([(f\"{i}\", step) for i, step in enumerate(steps)])\n",
    "\n",
    "X_train, X_val, X_test, y_train, y_val, y_test = get_train_val_test()\n",
    "X = pd.concat([X_val, X_train], axis=0)\n",
    "y = pd.concat([y_val, y_train], axis=0)\n",
    "X = pipe.fit_transform(X, y)\n",
    "X_test = pipe.transform(X_test)\n",
    "# X_train, y_train = SMOTE(sampling_strategy={'chocolate': y_train.value_counts().loc['chocolate'] + 1000, 'candy': y_train.value_counts().loc['candy'] + 1000}).fit_resample(X_train, y_train)\n",
    "\n",
    "# X_val = pipe.transform(X_val)\n",
    "dmap = {\n",
    "    \"cakes_cupcakes_snack_cakes\": 0,\n",
    "    \"candy\": 1,\n",
    "    \"chips_pretzels_snacks\": 2,\n",
    "    \"chocolate\": 3,\n",
    "    \"cookies_biscuits\": 4,\n",
    "    \"popcorn_peanuts_seeds_related_snacks\": 5,\n",
    "}\n",
    "y = y.apply(lambda x: dmap[x])\n",
    "y_test = y_test.apply(lambda x: dmap[x])\n",
    "\n",
    "print(X.shape)"
   ]
  },
  {
   "cell_type": "markdown",
   "metadata": {},
   "source": [
    "### Train and evaluate base model"
   ]
  },
  {
   "cell_type": "code",
   "execution_count": 3,
   "metadata": {},
   "outputs": [
    {
     "ename": "NameError",
     "evalue": "name 'X' is not defined",
     "output_type": "error",
     "traceback": [
      "\u001b[0;31m---------------------------------------------------------------------------\u001b[0m",
      "\u001b[0;31mNameError\u001b[0m                                 Traceback (most recent call last)",
      "\u001b[1;32m/workspaces/Final_Project-aladdeans-sage/part2.ipynb Cell 10\u001b[0m in \u001b[0;36m1\n\u001b[1;32m     <a href='vscode-notebook-cell://dev-container%2B7b22686f737450617468223a22633a5c5c55736572735c5c536167655c5c4465736b746f705c5c6d79466f6c6465725c5c7363686f6f6c5c5c6473617070735c5c6e65775c5c46696e616c5f50726f6a6563742d616c61646465616e732d73616765222c22636f6e66696746696c65223a7b22246d6964223a312c22667350617468223a22633a5c5c55736572735c5c536167655c5c4465736b746f705c5c6d79466f6c6465725c5c7363686f6f6c5c5c6473617070735c5c6e65775c5c46696e616c5f50726f6a6563742d616c61646465616e732d736167655c5c2e646576636f6e7461696e65722e6a736f6e222c225f736570223a312c2265787465726e616c223a2266696c653a2f2f2f632533412f55736572732f536167652f4465736b746f702f6d79466f6c6465722f7363686f6f6c2f6473617070732f6e65772f46696e616c5f50726f6a6563742d616c61646465616e732d736167652f2e646576636f6e7461696e65722e6a736f6e222c2270617468223a222f633a2f55736572732f536167652f4465736b746f702f6d79466f6c6465722f7363686f6f6c2f6473617070732f6e65772f46696e616c5f50726f6a6563742d616c61646465616e732d736167652f2e646576636f6e7461696e65722e6a736f6e222c22736368656d65223a2266696c65227d7d/workspaces/Final_Project-aladdeans-sage/part2.ipynb#X24sdnNjb2RlLXJlbW90ZQ%3D%3D?line=10'>11</a>\u001b[0m best_xgb\u001b[39m.\u001b[39mload_model(\u001b[39m'\u001b[39m\u001b[39mcheckpoints/xgb/xgb.model\u001b[39m\u001b[39m'\u001b[39m)\n\u001b[1;32m     <a href='vscode-notebook-cell://dev-container%2B7b22686f737450617468223a22633a5c5c55736572735c5c536167655c5c4465736b746f705c5c6d79466f6c6465725c5c7363686f6f6c5c5c6473617070735c5c6e65775c5c46696e616c5f50726f6a6563742d616c61646465616e732d73616765222c22636f6e66696746696c65223a7b22246d6964223a312c22667350617468223a22633a5c5c55736572735c5c536167655c5c4465736b746f705c5c6d79466f6c6465725c5c7363686f6f6c5c5c6473617070735c5c6e65775c5c46696e616c5f50726f6a6563742d616c61646465616e732d736167655c5c2e646576636f6e7461696e65722e6a736f6e222c225f736570223a312c2265787465726e616c223a2266696c653a2f2f2f632533412f55736572732f536167652f4465736b746f702f6d79466f6c6465722f7363686f6f6c2f6473617070732f6e65772f46696e616c5f50726f6a6563742d616c61646465616e732d736167652f2e646576636f6e7461696e65722e6a736f6e222c2270617468223a222f633a2f55736572732f536167652f4465736b746f702f6d79466f6c6465722f7363686f6f6c2f6473617070732f6e65772f46696e616c5f50726f6a6563742d616c61646465616e732d736167652f2e646576636f6e7461696e65722e6a736f6e222c22736368656d65223a2266696c65227d7d/workspaces/Final_Project-aladdeans-sage/part2.ipynb#X24sdnNjb2RlLXJlbW90ZQ%3D%3D?line=11'>12</a>\u001b[0m ensemble \u001b[39m=\u001b[39m BaggingClassifier(best_xgb, n_estimators\u001b[39m=\u001b[39m\u001b[39m20\u001b[39m, verbose\u001b[39m=\u001b[39m\u001b[39m2\u001b[39m, n_jobs\u001b[39m=\u001b[39m\u001b[39m2\u001b[39m, random_state\u001b[39m=\u001b[39m\u001b[39m42\u001b[39m)\n\u001b[0;32m---> <a href='vscode-notebook-cell://dev-container%2B7b22686f737450617468223a22633a5c5c55736572735c5c536167655c5c4465736b746f705c5c6d79466f6c6465725c5c7363686f6f6c5c5c6473617070735c5c6e65775c5c46696e616c5f50726f6a6563742d616c61646465616e732d73616765222c22636f6e66696746696c65223a7b22246d6964223a312c22667350617468223a22633a5c5c55736572735c5c536167655c5c4465736b746f705c5c6d79466f6c6465725c5c7363686f6f6c5c5c6473617070735c5c6e65775c5c46696e616c5f50726f6a6563742d616c61646465616e732d736167655c5c2e646576636f6e7461696e65722e6a736f6e222c225f736570223a312c2265787465726e616c223a2266696c653a2f2f2f632533412f55736572732f536167652f4465736b746f702f6d79466f6c6465722f7363686f6f6c2f6473617070732f6e65772f46696e616c5f50726f6a6563742d616c61646465616e732d736167652f2e646576636f6e7461696e65722e6a736f6e222c2270617468223a222f633a2f55736572732f536167652f4465736b746f702f6d79466f6c6465722f7363686f6f6c2f6473617070732f6e65772f46696e616c5f50726f6a6563742d616c61646465616e732d736167652f2e646576636f6e7461696e65722e6a736f6e222c22736368656d65223a2266696c65227d7d/workspaces/Final_Project-aladdeans-sage/part2.ipynb#X24sdnNjb2RlLXJlbW90ZQ%3D%3D?line=13'>14</a>\u001b[0m ensemble\u001b[39m.\u001b[39mfit(X, y)\n\u001b[1;32m     <a href='vscode-notebook-cell://dev-container%2B7b22686f737450617468223a22633a5c5c55736572735c5c536167655c5c4465736b746f705c5c6d79466f6c6465725c5c7363686f6f6c5c5c6473617070735c5c6e65775c5c46696e616c5f50726f6a6563742d616c61646465616e732d73616765222c22636f6e66696746696c65223a7b22246d6964223a312c22667350617468223a22633a5c5c55736572735c5c536167655c5c4465736b746f705c5c6d79466f6c6465725c5c7363686f6f6c5c5c6473617070735c5c6e65775c5c46696e616c5f50726f6a6563742d616c61646465616e732d736167655c5c2e646576636f6e7461696e65722e6a736f6e222c225f736570223a312c2265787465726e616c223a2266696c653a2f2f2f632533412f55736572732f536167652f4465736b746f702f6d79466f6c6465722f7363686f6f6c2f6473617070732f6e65772f46696e616c5f50726f6a6563742d616c61646465616e732d736167652f2e646576636f6e7461696e65722e6a736f6e222c2270617468223a222f633a2f55736572732f536167652f4465736b746f702f6d79466f6c6465722f7363686f6f6c2f6473617070732f6e65772f46696e616c5f50726f6a6563742d616c61646465616e732d736167652f2e646576636f6e7461696e65722e6a736f6e222c22736368656d65223a2266696c65227d7d/workspaces/Final_Project-aladdeans-sage/part2.ipynb#X24sdnNjb2RlLXJlbW90ZQ%3D%3D?line=14'>15</a>\u001b[0m y_pred \u001b[39m=\u001b[39m ensemble\u001b[39m.\u001b[39mpredict(X_test)\n\u001b[1;32m     <a href='vscode-notebook-cell://dev-container%2B7b22686f737450617468223a22633a5c5c55736572735c5c536167655c5c4465736b746f705c5c6d79466f6c6465725c5c7363686f6f6c5c5c6473617070735c5c6e65775c5c46696e616c5f50726f6a6563742d616c61646465616e732d73616765222c22636f6e66696746696c65223a7b22246d6964223a312c22667350617468223a22633a5c5c55736572735c5c536167655c5c4465736b746f705c5c6d79466f6c6465725c5c7363686f6f6c5c5c6473617070735c5c6e65775c5c46696e616c5f50726f6a6563742d616c61646465616e732d736167655c5c2e646576636f6e7461696e65722e6a736f6e222c225f736570223a312c2265787465726e616c223a2266696c653a2f2f2f632533412f55736572732f536167652f4465736b746f702f6d79466f6c6465722f7363686f6f6c2f6473617070732f6e65772f46696e616c5f50726f6a6563742d616c61646465616e732d736167652f2e646576636f6e7461696e65722e6a736f6e222c2270617468223a222f633a2f55736572732f536167652f4465736b746f702f6d79466f6c6465722f7363686f6f6c2f6473617070732f6e65772f46696e616c5f50726f6a6563742d616c61646465616e732d736167652f2e646576636f6e7461696e65722e6a736f6e222c22736368656d65223a2266696c65227d7d/workspaces/Final_Project-aladdeans-sage/part2.ipynb#X24sdnNjb2RlLXJlbW90ZQ%3D%3D?line=15'>16</a>\u001b[0m accuracy \u001b[39m=\u001b[39m accuracy_score(y_test, y_pred)\n",
      "\u001b[0;31mNameError\u001b[0m: name 'X' is not defined"
     ]
    }
   ],
   "source": [
    "from sklearn.ensemble import (\n",
    "    GradientBoostingClassifier,\n",
    "    RandomForestClassifier,\n",
    "    BaggingClassifier\n",
    ")\n",
    "from sklearn.metrics import accuracy_score\n",
    "from xgboost import XGBClassifier\n",
    "from joblib import dump\n",
    "\n",
    "best_xgb = XGBClassifier()\n",
    "best_xgb.load_model('checkpoints/xgb/xgb.model')\n",
    "ensemble = BaggingClassifier(best_xgb, n_estimators=20, verbose=2, n_jobs=2, random_state=42)\n",
    "\n",
    "ensemble.fit(X, y)\n",
    "y_pred = ensemble.predict(X_test)\n",
    "accuracy = accuracy_score(y_test, y_pred)\n",
    "\n",
    "print(f\"Accuracy: {accuracy:.2f}\")\n",
    "\n",
    "dump(ensemble, 'checkpoints/xgb_ensemble/ensemble.joblib')"
   ]
  },
  {
   "cell_type": "code",
   "execution_count": 8,
   "metadata": {},
   "outputs": [
    {
     "name": "stderr",
     "output_type": "stream",
     "text": [
      "[Parallel(n_jobs=2)]: Using backend LokyBackend with 2 concurrent workers.\n"
     ]
    },
    {
     "name": "stdout",
     "output_type": "stream",
     "text": [
      "0.9439546599496221\n"
     ]
    },
    {
     "name": "stderr",
     "output_type": "stream",
     "text": [
      "[Parallel(n_jobs=2)]: Done   2 out of   2 | elapsed:    3.5s finished\n"
     ]
    }
   ],
   "source": [
    "from joblib import dump, load\n",
    "\n",
    "# dump(ensemble, 'checkpoints/xgb_ensemble/ensemble.joblib')\n",
    "m = load('checkpoints/xgb_ensemble/ensemble.joblib')\n",
    "y_pred = m.predict(X_test)\n",
    "accuracy = accuracy_score(y_test, y_pred)\n",
    "print(accuracy)"
   ]
  },
  {
   "cell_type": "code",
   "execution_count": 18,
   "metadata": {},
   "outputs": [
    {
     "data": {
      "text/plain": [
       "0.9357547764014277"
      ]
     },
     "execution_count": 18,
     "metadata": {},
     "output_type": "execute_result"
    }
   ],
   "source": [
    "(y_val==y_pred).mean()"
   ]
  },
  {
   "cell_type": "code",
   "execution_count": 9,
   "metadata": {},
   "outputs": [
    {
     "ename": "NameError",
     "evalue": "name 'ensemple' is not defined",
     "output_type": "error",
     "traceback": [
      "\u001b[0;31m---------------------------------------------------------------------------\u001b[0m",
      "\u001b[0;31mNameError\u001b[0m                                 Traceback (most recent call last)",
      "\u001b[1;32m/workspaces/Final_Project-aladdeans-sage/part2.ipynb Cell 12\u001b[0m in \u001b[0;36m3\n\u001b[1;32m     <a href='vscode-notebook-cell://dev-container%2B7b22686f737450617468223a22633a5c5c55736572735c5c536167655c5c4465736b746f705c5c6d79466f6c6465725c5c7363686f6f6c5c5c6473617070735c5c6e65775c5c46696e616c5f50726f6a6563742d616c61646465616e732d73616765222c22636f6e66696746696c65223a7b22246d6964223a312c22667350617468223a22633a5c5c55736572735c5c536167655c5c4465736b746f705c5c6d79466f6c6465725c5c7363686f6f6c5c5c6473617070735c5c6e65775c5c46696e616c5f50726f6a6563742d616c61646465616e732d736167655c5c2e646576636f6e7461696e65722e6a736f6e222c225f736570223a312c2265787465726e616c223a2266696c653a2f2f2f632533412f55736572732f536167652f4465736b746f702f6d79466f6c6465722f7363686f6f6c2f6473617070732f6e65772f46696e616c5f50726f6a6563742d616c61646465616e732d736167652f2e646576636f6e7461696e65722e6a736f6e222c2270617468223a222f633a2f55736572732f536167652f4465736b746f702f6d79466f6c6465722f7363686f6f6c2f6473617070732f6e65772f46696e616c5f50726f6a6563742d616c61646465616e732d736167652f2e646576636f6e7461696e65722e6a736f6e222c22736368656d65223a2266696c65227d7d/workspaces/Final_Project-aladdeans-sage/part2.ipynb#X51sdnNjb2RlLXJlbW90ZQ%3D%3D?line=33'>34</a>\u001b[0m \u001b[39m# SEGFAULT at rstudio :/ saved the prediction into csv with jupyter\u001b[39;00m\n\u001b[1;32m     <a href='vscode-notebook-cell://dev-container%2B7b22686f737450617468223a22633a5c5c55736572735c5c536167655c5c4465736b746f705c5c6d79466f6c6465725c5c7363686f6f6c5c5c6473617070735c5c6e65775c5c46696e616c5f50726f6a6563742d616c61646465616e732d73616765222c22636f6e66696746696c65223a7b22246d6964223a312c22667350617468223a22633a5c5c55736572735c5c536167655c5c4465736b746f705c5c6d79466f6c6465725c5c7363686f6f6c5c5c6473617070735c5c6e65775c5c46696e616c5f50726f6a6563742d616c61646465616e732d736167655c5c2e646576636f6e7461696e65722e6a736f6e222c225f736570223a312c2265787465726e616c223a2266696c653a2f2f2f632533412f55736572732f536167652f4465736b746f702f6d79466f6c6465722f7363686f6f6c2f6473617070732f6e65772f46696e616c5f50726f6a6563742d616c61646465616e732d736167652f2e646576636f6e7461696e65722e6a736f6e222c2270617468223a222f633a2f55736572732f536167652f4465736b746f702f6d79466f6c6465722f7363686f6f6c2f6473617070732f6e65772f46696e616c5f50726f6a6563742d616c61646465616e732d736167652f2e646576636f6e7461696e65722e6a736f6e222c22736368656d65223a2266696c65227d7d/workspaces/Final_Project-aladdeans-sage/part2.ipynb#X51sdnNjb2RlLXJlbW90ZQ%3D%3D?line=35'>36</a>\u001b[0m ensemble \u001b[39m=\u001b[39m load(\u001b[39m'\u001b[39m\u001b[39mcheckpoints/xgb_ensemble/ensemble.joblib\u001b[39m\u001b[39m'\u001b[39m)\n\u001b[0;32m---> <a href='vscode-notebook-cell://dev-container%2B7b22686f737450617468223a22633a5c5c55736572735c5c536167655c5c4465736b746f705c5c6d79466f6c6465725c5c7363686f6f6c5c5c6473617070735c5c6e65775c5c46696e616c5f50726f6a6563742d616c61646465616e732d73616765222c22636f6e66696746696c65223a7b22246d6964223a312c22667350617468223a22633a5c5c55736572735c5c536167655c5c4465736b746f705c5c6d79466f6c6465725c5c7363686f6f6c5c5c6473617070735c5c6e65775c5c46696e616c5f50726f6a6563742d616c61646465616e732d736167655c5c2e646576636f6e7461696e65722e6a736f6e222c225f736570223a312c2265787465726e616c223a2266696c653a2f2f2f632533412f55736572732f536167652f4465736b746f702f6d79466f6c6465722f7363686f6f6c2f6473617070732f6e65772f46696e616c5f50726f6a6563742d616c61646465616e732d736167652f2e646576636f6e7461696e65722e6a736f6e222c2270617468223a222f633a2f55736572732f536167652f4465736b746f702f6d79466f6c6465722f7363686f6f6c2f6473617070732f6e65772f46696e616c5f50726f6a6563742d616c61646465616e732d736167652f2e646576636f6e7461696e65722e6a736f6e222c22736368656d65223a2266696c65227d7d/workspaces/Final_Project-aladdeans-sage/part2.ipynb#X51sdnNjb2RlLXJlbW90ZQ%3D%3D?line=36'>37</a>\u001b[0m ensemple\u001b[39m.\u001b[39mn_jobs \u001b[39m=\u001b[39m \u001b[39m1\u001b[39m\n\u001b[1;32m     <a href='vscode-notebook-cell://dev-container%2B7b22686f737450617468223a22633a5c5c55736572735c5c536167655c5c4465736b746f705c5c6d79466f6c6465725c5c7363686f6f6c5c5c6473617070735c5c6e65775c5c46696e616c5f50726f6a6563742d616c61646465616e732d73616765222c22636f6e66696746696c65223a7b22246d6964223a312c22667350617468223a22633a5c5c55736572735c5c536167655c5c4465736b746f705c5c6d79466f6c6465725c5c7363686f6f6c5c5c6473617070735c5c6e65775c5c46696e616c5f50726f6a6563742d616c61646465616e732d736167655c5c2e646576636f6e7461696e65722e6a736f6e222c225f736570223a312c2265787465726e616c223a2266696c653a2f2f2f632533412f55736572732f536167652f4465736b746f702f6d79466f6c6465722f7363686f6f6c2f6473617070732f6e65772f46696e616c5f50726f6a6563742d616c61646465616e732d736167652f2e646576636f6e7461696e65722e6a736f6e222c2270617468223a222f633a2f55736572732f536167652f4465736b746f702f6d79466f6c6465722f7363686f6f6c2f6473617070732f6e65772f46696e616c5f50726f6a6563742d616c61646465616e732d736167652f2e646576636f6e7461696e65722e6a736f6e222c22736368656d65223a2266696c65227d7d/workspaces/Final_Project-aladdeans-sage/part2.ipynb#X51sdnNjb2RlLXJlbW90ZQ%3D%3D?line=38'>39</a>\u001b[0m y_pred \u001b[39m=\u001b[39m ensemble\u001b[39m.\u001b[39mpredict(X_test)\n\u001b[1;32m     <a href='vscode-notebook-cell://dev-container%2B7b22686f737450617468223a22633a5c5c55736572735c5c536167655c5c4465736b746f705c5c6d79466f6c6465725c5c7363686f6f6c5c5c6473617070735c5c6e65775c5c46696e616c5f50726f6a6563742d616c61646465616e732d73616765222c22636f6e66696746696c65223a7b22246d6964223a312c22667350617468223a22633a5c5c55736572735c5c536167655c5c4465736b746f705c5c6d79466f6c6465725c5c7363686f6f6c5c5c6473617070735c5c6e65775c5c46696e616c5f50726f6a6563742d616c61646465616e732d736167655c5c2e646576636f6e7461696e65722e6a736f6e222c225f736570223a312c2265787465726e616c223a2266696c653a2f2f2f632533412f55736572732f536167652f4465736b746f702f6d79466f6c6465722f7363686f6f6c2f6473617070732f6e65772f46696e616c5f50726f6a6563742d616c61646465616e732d736167652f2e646576636f6e7461696e65722e6a736f6e222c2270617468223a222f633a2f55736572732f536167652f4465736b746f702f6d79466f6c6465722f7363686f6f6c2f6473617070732f6e65772f46696e616c5f50726f6a6563742d616c61646465616e732d736167652f2e646576636f6e7461696e65722e6a736f6e222c22736368656d65223a2266696c65227d7d/workspaces/Final_Project-aladdeans-sage/part2.ipynb#X51sdnNjb2RlLXJlbW90ZQ%3D%3D?line=40'>41</a>\u001b[0m \u001b[39m# Calculate the accuracy of the model\u001b[39;00m\n",
      "\u001b[0;31mNameError\u001b[0m: name 'ensemple' is not defined"
     ]
    }
   ],
   "source": [
    "def get_test_set():\n",
    "    X = pd.read_csv(\"data/food_test.csv\")\n",
    "    \n",
    "    image_scores_df = (\n",
    "        pd.read_csv(f\"data/resnet18_food_test_features_fine_tuned.csv\", index_col=0)\n",
    "        .set_index(X.index)\n",
    "        .add_prefix(\"image_scores_\")\n",
    "    )\n",
    "    \n",
    "    X = pd.concat([X, image_scores_df], axis=1)\n",
    "    \n",
    "    return X\n",
    "\n",
    "def save_predictions(model, path):\n",
    "    labels = [\n",
    "      \"cakes_cupcakes_snack_cakes\",\n",
    "      \"candy\",\n",
    "      \"chips_pretzels_snacks\",\n",
    "      \"chocolate\",\n",
    "      \"cookies_biscuits\",\n",
    "      \"popcorn_peanuts_seeds_related_snacks\"\n",
    "    ]\n",
    "    \n",
    "    X = get_test_set()\n",
    "    X = pipe.transform(X)\n",
    "    \n",
    "    X['pred_cat'] = model.predict(X)\n",
    "    X['pred_cat'] = X['pred_cat'].apply(lambda x: x if isinstance(x, str) else labels[x])\n",
    "    \n",
    "    X[['idx', 'pred_cat']].to_csv(path, index=False)\n",
    "    X.drop(columns=['pred_cat'], inplace=True)\n",
    "\n",
    "from sklearn.ensemble import BaggingClassifier \n",
    "# SEGFAULT at rstudio :/ saved the prediction into csv with jupyter\n",
    "\n",
    "ensemble = load('checkpoints/xgb_ensemble/ensemble.joblib')\n",
    "\n",
    "y_pred = ensemble.predict(X_test)\n",
    "\n",
    "# Calculate the accuracy of the model\n",
    "accuracy = accuracy_score(y_test, y_pred)\n",
    "print(\"Accuracy:\", accuracy)\n",
    "\n",
    "save_predictions(ensemble, 'predictions/model03.csv')"
   ]
  },
  {
   "cell_type": "code",
   "execution_count": 6,
   "metadata": {},
   "outputs": [
    {
     "name": "stdout",
     "output_type": "stream",
     "text": [
      "Accuracy: 0.0\n"
     ]
    }
   ],
   "source": [
    "from xgboost import XGBClassifier\n",
    "from sklearn.metrics import accuracy_score\n",
    "\n",
    "model = XGBClassifier()\n",
    "model.load_model(\"checkpoints/xgb/xgb.model\")\n",
    "y_pred = model.predict(X_test)\n",
    "accuracy = accuracy_score(y_test, y_pred)\n",
    "print(f\"Accuracy: {accuracy}\")"
   ]
  },
  {
   "cell_type": "code",
   "execution_count": 73,
   "metadata": {},
   "outputs": [
    {
     "data": {
      "text/plain": [
       "0.9452141057934509"
      ]
     },
     "execution_count": 73,
     "metadata": {},
     "output_type": "execute_result"
    }
   ],
   "source": [
    "(y_test == y_pred).mean()"
   ]
  },
  {
   "cell_type": "code",
   "execution_count": 76,
   "metadata": {},
   "outputs": [
    {
     "data": {
      "text/plain": [
       "3    34\n",
       "1    15\n",
       "4    13\n",
       "5    12\n",
       "0    10\n",
       "2     3\n",
       "Name: b, dtype: int64"
      ]
     },
     "execution_count": 76,
     "metadata": {},
     "output_type": "execute_result"
    }
   ],
   "source": [
    "pd.DataFrame({'a': y_test == y_pred, 'b': y_test}).replace(True, None).dropna()['b'].value_counts()"
   ]
  },
  {
   "cell_type": "markdown",
   "metadata": {},
   "source": [
    "Not too bad. We aim to improve this score in the next part. We'll start with utilizing the images in the dataset. For this part, a ResNet18 model is used. All model's weights are frozen except the last layer. The last layer is replaced with a new layer with 6 outputs. The model is trained for 25 epochs with a learning rate of 0.001, decay by a factor of 0.1 every 7 epochs.\n",
    "\n",
    "All code is available in `helpers/resnet.py`.\n",
    "\n",
    "Source: https://pytorch.org/tutorials/beginner/transfer_learning_tutorial.html#convnet-as-fixed-feature-extractor"
   ]
  },
  {
   "cell_type": "code",
   "execution_count": 70,
   "metadata": {},
   "outputs": [],
   "source": [
    "dmap = {\n",
    "    \"cakes_cupcakes_snack_cakes\": 0,\n",
    "    \"candy\": 1,\n",
    "    \"chips_pretzels_snacks\": 2,\n",
    "    \"chocolate\": 3,\n",
    "    \"cookies_biscuits\": 4,\n",
    "    \"popcorn_peanuts_seeds_related_snacks\": 5,\n",
    "}\n",
    "y = y.apply(lambda x: dmap[x])\n",
    "y_test = y_test.apply(lambda x: dmap[x])"
   ]
  },
  {
   "cell_type": "code",
   "execution_count": 22,
   "metadata": {},
   "outputs": [],
   "source": [
    "X_test = pipe.transform(X_test)"
   ]
  },
  {
   "cell_type": "code",
   "execution_count": 23,
   "metadata": {},
   "outputs": [
    {
     "name": "stdout",
     "output_type": "stream",
     "text": [
      "Best Parameters: {'subsample': 1.0, 'reg_lambda': 0, 'reg_alpha': 0.1, 'n_estimators': 400, 'min_child_weight': 1, 'max_depth': 8, 'learning_rate': 0.1, 'gamma': 0, 'colsample_bytree': 0.9}\n",
      "Validation Accuracy: 0.9452141057934509\n"
     ]
    }
   ],
   "source": [
    "from sklearn.model_selection import RandomizedSearchCV\n",
    "from xgboost import XGBClassifier\n",
    "\n",
    "# param_grid = {\n",
    "#     'n_estimators': [100, 200, 300, 400, 500],\n",
    "#     'learning_rate': [0.01, 0.1, 0.3],\n",
    "#     'max_depth': [3, 5, 6, 7, 8],\n",
    "#     'min_child_weight': [1, 2, 4],\n",
    "#     'subsample': [0.8, 0.9, 1.0],\n",
    "#     'colsample_bytree': [0.8, 0.9, 1.0],\n",
    "#     'gamma': [0, 0.1, 0.3],\n",
    "#     'reg_alpha': [0, 0.1, 0.3],\n",
    "#     'reg_lambda': [0, 0.1, 0.3],\n",
    "# }\n",
    "\n",
    "# xgb = XGBClassifier(objective='multi:softmax', num_class=6, random_state=42)\n",
    "\n",
    "# random_search = RandomizedSearchCV(\n",
    "#     estimator=xgb,\n",
    "#     param_distributions=param_grid,\n",
    "#     n_iter=25,  # Number of iterations\n",
    "#     scoring='accuracy',  # Use an appropriate scoring metric\n",
    "#     cv=4,  # Number of cross-validation folds\n",
    "#     verbose=3,\n",
    "#     n_jobs=2,  # Use all available CPU cores\n",
    "#     random_state=42\n",
    "# )\n",
    "\n",
    "# random_search.fit(X, y)\n",
    "\n",
    "# best_params = random_search.best_params_\n",
    "# best_model = random_search.best_estimator_\n",
    "\n",
    "val_accuracy = best_model.score(X_test, y_test)\n",
    "print(\"Best Parameters:\", best_params)\n",
    "print(\"Validation Accuracy:\", val_accuracy)\n",
    "\n",
    "\n",
    "with open('checkpoints/xgb/xgb_random_search.txt', 'w') as f:\n",
    "    f.write(\"Best Parameters:\\n\")\n",
    "    f.write(str(best_params))\n",
    "    f.write(\"\\n\\nValidation Accuracy:\\n\")\n",
    "    f.write(str(val_accuracy))\n"
   ]
  },
  {
   "cell_type": "code",
   "execution_count": 5,
   "metadata": {},
   "outputs": [
    {
     "ename": "NameError",
     "evalue": "name 'XGBClassifier' is not defined",
     "output_type": "error",
     "traceback": [
      "\u001b[0;31m---------------------------------------------------------------------------\u001b[0m",
      "\u001b[0;31mNameError\u001b[0m                                 Traceback (most recent call last)",
      "\u001b[1;32m/workspaces/Final_Project-aladdeans-sage/part2.ipynb Cell 24\u001b[0m in \u001b[0;36m1\n\u001b[0;32m----> <a href='vscode-notebook-cell://dev-container%2B7b22686f737450617468223a22633a5c5c55736572735c5c536167655c5c4465736b746f705c5c6d79466f6c6465725c5c7363686f6f6c5c5c6473617070735c5c46696e616c5f50726f6a6563742d616c61646465616e732d73616765222c22636f6e66696746696c65223a7b22246d6964223a312c22667350617468223a22633a5c5c55736572735c5c536167655c5c4465736b746f705c5c6d79466f6c6465725c5c7363686f6f6c5c5c6473617070735c5c46696e616c5f50726f6a6563742d616c61646465616e732d736167655c5c2e646576636f6e7461696e65722e6a736f6e222c225f736570223a312c2265787465726e616c223a2266696c653a2f2f2f632533412f55736572732f536167652f4465736b746f702f6d79466f6c6465722f7363686f6f6c2f6473617070732f46696e616c5f50726f6a6563742d616c61646465616e732d736167652f2e646576636f6e7461696e65722e6a736f6e222c2270617468223a222f633a2f55736572732f536167652f4465736b746f702f6d79466f6c6465722f7363686f6f6c2f6473617070732f46696e616c5f50726f6a6563742d616c61646465616e732d736167652f2e646576636f6e7461696e65722e6a736f6e222c22736368656d65223a2266696c65227d7d/workspaces/Final_Project-aladdeans-sage/part2.ipynb#X34sdnNjb2RlLXJlbW90ZQ%3D%3D?line=0'>1</a>\u001b[0m best_xgb \u001b[39m=\u001b[39m XGBClassifier()\n\u001b[1;32m      <a href='vscode-notebook-cell://dev-container%2B7b22686f737450617468223a22633a5c5c55736572735c5c536167655c5c4465736b746f705c5c6d79466f6c6465725c5c7363686f6f6c5c5c6473617070735c5c46696e616c5f50726f6a6563742d616c61646465616e732d73616765222c22636f6e66696746696c65223a7b22246d6964223a312c22667350617468223a22633a5c5c55736572735c5c536167655c5c4465736b746f705c5c6d79466f6c6465725c5c7363686f6f6c5c5c6473617070735c5c46696e616c5f50726f6a6563742d616c61646465616e732d736167655c5c2e646576636f6e7461696e65722e6a736f6e222c225f736570223a312c2265787465726e616c223a2266696c653a2f2f2f632533412f55736572732f536167652f4465736b746f702f6d79466f6c6465722f7363686f6f6c2f6473617070732f46696e616c5f50726f6a6563742d616c61646465616e732d736167652f2e646576636f6e7461696e65722e6a736f6e222c2270617468223a222f633a2f55736572732f536167652f4465736b746f702f6d79466f6c6465722f7363686f6f6c2f6473617070732f46696e616c5f50726f6a6563742d616c61646465616e732d736167652f2e646576636f6e7461696e65722e6a736f6e222c22736368656d65223a2266696c65227d7d/workspaces/Final_Project-aladdeans-sage/part2.ipynb#X34sdnNjb2RlLXJlbW90ZQ%3D%3D?line=1'>2</a>\u001b[0m best_xgb\u001b[39m.\u001b[39mload_model(\u001b[39m'\u001b[39m\u001b[39m/workspaces/Final_Project-aladdeans-sage/checkpoints/xgb/xgb.model\u001b[39m\u001b[39m'\u001b[39m)\n",
      "\u001b[0;31mNameError\u001b[0m: name 'XGBClassifier' is not defined"
     ]
    }
   ],
   "source": [
    "from\n",
    "\n",
    "best_xgb = XGBClassifier()\n",
    "best_xgb.load_model('/workspaces/Final_Project-aladdeans-sage/checkpoints/xgb/xgb.model')"
   ]
  },
  {
   "cell_type": "code",
   "execution_count": 52,
   "metadata": {},
   "outputs": [
    {
     "name": "stdout",
     "output_type": "stream",
     "text": [
      "Best Parameters: {'subsample': 1.0, 'reg_lambda': 0, 'reg_alpha': 0.1, 'n_estimators': 400, 'min_child_weight': 1, 'max_depth': 8, 'learning_rate': 0.1, 'gamma': 0, 'colsample_bytree': 0.9}\n",
      "Validation Accuracy: 0.9452141057934509\n"
     ]
    }
   ],
   "source": [
    "test_accuracy = m.score(X_test, y_test)\n",
    "print(\"Best Parameters:\", best_params)\n",
    "print(\"Validation Accuracy:\", test_accuracy)\n"
   ]
  },
  {
   "cell_type": "code",
   "execution_count": 9,
   "metadata": {},
   "outputs": [
    {
     "name": "stdout",
     "output_type": "stream",
     "text": [
      "Fitting 5 folds for each of 50 candidates, totalling 250 fits\n",
      "[CV] END bootstrap=True, criterion=gini, max_depth=None, min_samples_leaf=1, min_samples_split=10, n_estimators=500, random_state=42; total time= 1.3min\n",
      "[CV] END bootstrap=True, criterion=gini, max_depth=None, min_samples_leaf=1, min_samples_split=10, n_estimators=500, random_state=42; total time= 1.4min\n",
      "[CV] END bootstrap=True, criterion=gini, max_depth=None, min_samples_leaf=1, min_samples_split=10, n_estimators=500, random_state=42; total time= 1.4min\n",
      "[CV] END bootstrap=True, criterion=gini, max_depth=None, min_samples_leaf=1, min_samples_split=10, n_estimators=500, random_state=42; total time= 1.3min\n",
      "[CV] END bootstrap=True, criterion=gini, max_depth=None, min_samples_leaf=1, min_samples_split=10, n_estimators=500, random_state=42; total time= 1.3min\n",
      "[CV] END bootstrap=False, criterion=gini, max_depth=30, min_samples_leaf=2, min_samples_split=10, n_estimators=300, random_state=42; total time=  53.9s\n",
      "[CV] END bootstrap=False, criterion=gini, max_depth=30, min_samples_leaf=2, min_samples_split=10, n_estimators=300, random_state=42; total time=  54.0s\n",
      "[CV] END bootstrap=False, criterion=gini, max_depth=30, min_samples_leaf=2, min_samples_split=10, n_estimators=300, random_state=42; total time=  52.8s\n",
      "[CV] END bootstrap=False, criterion=gini, max_depth=30, min_samples_leaf=2, min_samples_split=10, n_estimators=300, random_state=42; total time=  54.1s\n",
      "[CV] END bootstrap=False, criterion=gini, max_depth=30, min_samples_leaf=2, min_samples_split=10, n_estimators=300, random_state=42; total time=  54.7s\n",
      "[CV] END bootstrap=True, criterion=entropy, max_depth=None, min_samples_leaf=1, min_samples_split=10, n_estimators=400, random_state=42; total time=  52.8s\n",
      "[CV] END bootstrap=True, criterion=entropy, max_depth=None, min_samples_leaf=1, min_samples_split=10, n_estimators=400, random_state=42; total time=  57.1s\n",
      "[CV] END bootstrap=True, criterion=entropy, max_depth=None, min_samples_leaf=1, min_samples_split=10, n_estimators=400, random_state=42; total time=  58.2s\n",
      "[CV] END bootstrap=True, criterion=entropy, max_depth=None, min_samples_leaf=1, min_samples_split=10, n_estimators=400, random_state=42; total time=  54.9s\n",
      "[CV] END bootstrap=True, criterion=entropy, max_depth=None, min_samples_leaf=1, min_samples_split=10, n_estimators=400, random_state=42; total time=  55.9s\n",
      "[CV] END bootstrap=False, criterion=gini, max_depth=40, min_samples_leaf=2, min_samples_split=2, n_estimators=300, random_state=42; total time= 1.0min\n",
      "[CV] END bootstrap=False, criterion=gini, max_depth=40, min_samples_leaf=2, min_samples_split=2, n_estimators=300, random_state=42; total time=  58.5s\n",
      "[CV] END bootstrap=False, criterion=gini, max_depth=40, min_samples_leaf=2, min_samples_split=2, n_estimators=300, random_state=42; total time= 1.1min\n",
      "[CV] END bootstrap=False, criterion=gini, max_depth=40, min_samples_leaf=2, min_samples_split=2, n_estimators=300, random_state=42; total time= 1.1min\n",
      "[CV] END bootstrap=False, criterion=gini, max_depth=40, min_samples_leaf=2, min_samples_split=2, n_estimators=300, random_state=42; total time= 1.1min\n",
      "[CV] END bootstrap=True, criterion=gini, max_depth=40, min_samples_leaf=4, min_samples_split=5, n_estimators=300, random_state=42; total time=  37.4s\n",
      "[CV] END bootstrap=True, criterion=gini, max_depth=40, min_samples_leaf=4, min_samples_split=5, n_estimators=300, random_state=42; total time=  36.3s\n",
      "[CV] END bootstrap=True, criterion=gini, max_depth=40, min_samples_leaf=4, min_samples_split=5, n_estimators=300, random_state=42; total time=  40.8s\n",
      "[CV] END bootstrap=True, criterion=gini, max_depth=40, min_samples_leaf=4, min_samples_split=5, n_estimators=300, random_state=42; total time=  39.0s\n",
      "[CV] END bootstrap=True, criterion=gini, max_depth=40, min_samples_leaf=4, min_samples_split=5, n_estimators=300, random_state=42; total time=  35.2s\n",
      "[CV] END bootstrap=True, criterion=entropy, max_depth=40, min_samples_leaf=1, min_samples_split=5, n_estimators=500, random_state=42; total time= 1.2min\n",
      "[CV] END bootstrap=True, criterion=entropy, max_depth=40, min_samples_leaf=1, min_samples_split=5, n_estimators=500, random_state=42; total time= 1.2min\n",
      "[CV] END bootstrap=True, criterion=entropy, max_depth=40, min_samples_leaf=1, min_samples_split=5, n_estimators=500, random_state=42; total time= 1.3min\n",
      "[CV] END bootstrap=True, criterion=entropy, max_depth=40, min_samples_leaf=1, min_samples_split=5, n_estimators=500, random_state=42; total time= 1.2min\n",
      "[CV] END bootstrap=True, criterion=entropy, max_depth=40, min_samples_leaf=1, min_samples_split=5, n_estimators=500, random_state=42; total time= 1.2min\n",
      "[CV] END bootstrap=False, criterion=entropy, max_depth=10, min_samples_leaf=2, min_samples_split=10, n_estimators=200, random_state=42; total time=  13.8s\n",
      "[CV] END bootstrap=False, criterion=entropy, max_depth=10, min_samples_leaf=2, min_samples_split=10, n_estimators=200, random_state=42; total time=  16.3s\n",
      "[CV] END bootstrap=False, criterion=entropy, max_depth=10, min_samples_leaf=2, min_samples_split=10, n_estimators=200, random_state=42; total time=  14.4s\n",
      "[CV] END bootstrap=False, criterion=entropy, max_depth=10, min_samples_leaf=2, min_samples_split=10, n_estimators=200, random_state=42; total time=  14.1s\n",
      "[CV] END bootstrap=False, criterion=entropy, max_depth=10, min_samples_leaf=2, min_samples_split=10, n_estimators=200, random_state=42; total time=  13.9s\n",
      "[CV] END bootstrap=False, criterion=gini, max_depth=20, min_samples_leaf=2, min_samples_split=5, n_estimators=400, random_state=42; total time=  56.2s\n",
      "[CV] END bootstrap=False, criterion=gini, max_depth=20, min_samples_leaf=2, min_samples_split=5, n_estimators=400, random_state=42; total time=  54.6s\n",
      "[CV] END bootstrap=False, criterion=gini, max_depth=20, min_samples_leaf=2, min_samples_split=5, n_estimators=400, random_state=42; total time=  57.0s\n",
      "[CV] END bootstrap=False, criterion=gini, max_depth=20, min_samples_leaf=2, min_samples_split=5, n_estimators=400, random_state=42; total time=  54.3s\n",
      "[CV] END bootstrap=False, criterion=gini, max_depth=20, min_samples_leaf=2, min_samples_split=5, n_estimators=400, random_state=42; total time=  54.1s\n",
      "[CV] END bootstrap=False, criterion=gini, max_depth=10, min_samples_leaf=4, min_samples_split=10, n_estimators=100, random_state=42; total time=   6.3s\n",
      "[CV] END bootstrap=False, criterion=gini, max_depth=10, min_samples_leaf=4, min_samples_split=10, n_estimators=100, random_state=42; total time=   6.3s\n",
      "[CV] END bootstrap=False, criterion=gini, max_depth=10, min_samples_leaf=4, min_samples_split=10, n_estimators=100, random_state=42; total time=   6.5s\n",
      "[CV] END bootstrap=False, criterion=gini, max_depth=10, min_samples_leaf=4, min_samples_split=10, n_estimators=100, random_state=42; total time=   6.2s\n",
      "[CV] END bootstrap=False, criterion=gini, max_depth=10, min_samples_leaf=4, min_samples_split=10, n_estimators=100, random_state=42; total time=   6.2s\n",
      "[CV] END bootstrap=False, criterion=gini, max_depth=10, min_samples_leaf=1, min_samples_split=5, n_estimators=400, random_state=42; total time=  23.5s\n",
      "[CV] END bootstrap=False, criterion=gini, max_depth=10, min_samples_leaf=1, min_samples_split=5, n_estimators=400, random_state=42; total time=  23.9s\n",
      "[CV] END bootstrap=False, criterion=gini, max_depth=10, min_samples_leaf=1, min_samples_split=5, n_estimators=400, random_state=42; total time=  24.5s\n",
      "[CV] END bootstrap=False, criterion=gini, max_depth=10, min_samples_leaf=1, min_samples_split=5, n_estimators=400, random_state=42; total time=  21.1s\n",
      "[CV] END bootstrap=False, criterion=gini, max_depth=10, min_samples_leaf=1, min_samples_split=5, n_estimators=400, random_state=42; total time=  21.1s\n",
      "[CV] END bootstrap=True, criterion=gini, max_depth=30, min_samples_leaf=4, min_samples_split=5, n_estimators=300, random_state=42; total time=  29.5s\n",
      "[CV] END bootstrap=True, criterion=gini, max_depth=30, min_samples_leaf=4, min_samples_split=5, n_estimators=300, random_state=42; total time=  29.8s\n",
      "[CV] END bootstrap=True, criterion=gini, max_depth=30, min_samples_leaf=4, min_samples_split=5, n_estimators=300, random_state=42; total time=  29.5s\n",
      "[CV] END bootstrap=True, criterion=gini, max_depth=30, min_samples_leaf=4, min_samples_split=5, n_estimators=300, random_state=42; total time=  29.6s\n",
      "[CV] END bootstrap=True, criterion=gini, max_depth=30, min_samples_leaf=4, min_samples_split=5, n_estimators=300, random_state=42; total time=  29.4s\n",
      "[CV] END bootstrap=False, criterion=gini, max_depth=20, min_samples_leaf=4, min_samples_split=2, n_estimators=200, random_state=42; total time=  22.9s\n",
      "[CV] END bootstrap=False, criterion=gini, max_depth=20, min_samples_leaf=4, min_samples_split=2, n_estimators=200, random_state=42; total time=  23.4s\n",
      "[CV] END bootstrap=False, criterion=gini, max_depth=20, min_samples_leaf=4, min_samples_split=2, n_estimators=200, random_state=42; total time=  23.4s\n",
      "[CV] END bootstrap=False, criterion=gini, max_depth=20, min_samples_leaf=4, min_samples_split=2, n_estimators=200, random_state=42; total time=  23.0s\n",
      "[CV] END bootstrap=False, criterion=gini, max_depth=20, min_samples_leaf=4, min_samples_split=2, n_estimators=200, random_state=42; total time=  22.9s\n",
      "[CV] END bootstrap=False, criterion=gini, max_depth=20, min_samples_leaf=2, min_samples_split=10, n_estimators=300, random_state=42; total time=  37.0s\n",
      "[CV] END bootstrap=False, criterion=gini, max_depth=20, min_samples_leaf=2, min_samples_split=10, n_estimators=300, random_state=42; total time=  36.0s\n",
      "[CV] END bootstrap=False, criterion=gini, max_depth=20, min_samples_leaf=2, min_samples_split=10, n_estimators=300, random_state=42; total time=  35.8s\n",
      "[CV] END bootstrap=False, criterion=gini, max_depth=20, min_samples_leaf=2, min_samples_split=10, n_estimators=300, random_state=42; total time=  35.9s\n",
      "[CV] END bootstrap=False, criterion=gini, max_depth=20, min_samples_leaf=2, min_samples_split=10, n_estimators=300, random_state=42; total time=  35.6s\n",
      "[CV] END bootstrap=False, criterion=gini, max_depth=40, min_samples_leaf=4, min_samples_split=5, n_estimators=200, random_state=42; total time=  31.7s\n",
      "[CV] END bootstrap=False, criterion=gini, max_depth=40, min_samples_leaf=4, min_samples_split=5, n_estimators=200, random_state=42; total time=  32.3s\n",
      "[CV] END bootstrap=False, criterion=gini, max_depth=40, min_samples_leaf=4, min_samples_split=5, n_estimators=200, random_state=42; total time=  31.8s\n",
      "[CV] END bootstrap=False, criterion=gini, max_depth=40, min_samples_leaf=4, min_samples_split=5, n_estimators=200, random_state=42; total time=  31.8s\n",
      "[CV] END bootstrap=False, criterion=gini, max_depth=40, min_samples_leaf=4, min_samples_split=5, n_estimators=200, random_state=42; total time=  34.9s\n",
      "[CV] END bootstrap=False, criterion=entropy, max_depth=20, min_samples_leaf=2, min_samples_split=10, n_estimators=300, random_state=42; total time=  38.8s\n",
      "[CV] END bootstrap=False, criterion=entropy, max_depth=20, min_samples_leaf=2, min_samples_split=10, n_estimators=300, random_state=42; total time=  41.2s\n",
      "[CV] END bootstrap=False, criterion=entropy, max_depth=20, min_samples_leaf=2, min_samples_split=10, n_estimators=300, random_state=42; total time=  35.9s\n",
      "[CV] END bootstrap=False, criterion=entropy, max_depth=20, min_samples_leaf=2, min_samples_split=10, n_estimators=300, random_state=42; total time=  37.8s\n",
      "[CV] END bootstrap=False, criterion=entropy, max_depth=20, min_samples_leaf=2, min_samples_split=10, n_estimators=300, random_state=42; total time=  41.0s\n",
      "[CV] END bootstrap=True, criterion=entropy, max_depth=10, min_samples_leaf=4, min_samples_split=5, n_estimators=500, random_state=42; total time=  21.2s\n",
      "[CV] END bootstrap=True, criterion=entropy, max_depth=10, min_samples_leaf=4, min_samples_split=5, n_estimators=500, random_state=42; total time=  21.2s\n",
      "[CV] END bootstrap=True, criterion=entropy, max_depth=10, min_samples_leaf=4, min_samples_split=5, n_estimators=500, random_state=42; total time=  22.6s\n",
      "[CV] END bootstrap=True, criterion=entropy, max_depth=10, min_samples_leaf=4, min_samples_split=5, n_estimators=500, random_state=42; total time=  24.9s\n",
      "[CV] END bootstrap=True, criterion=entropy, max_depth=10, min_samples_leaf=4, min_samples_split=5, n_estimators=500, random_state=42; total time=  20.4s\n",
      "[CV] END bootstrap=False, criterion=entropy, max_depth=10, min_samples_leaf=2, min_samples_split=10, n_estimators=500, random_state=42; total time=  28.7s\n",
      "[CV] END bootstrap=False, criterion=entropy, max_depth=10, min_samples_leaf=2, min_samples_split=10, n_estimators=500, random_state=42; total time=  30.2s\n",
      "[CV] END bootstrap=False, criterion=entropy, max_depth=10, min_samples_leaf=2, min_samples_split=10, n_estimators=500, random_state=42; total time=  30.6s\n",
      "[CV] END bootstrap=False, criterion=entropy, max_depth=10, min_samples_leaf=2, min_samples_split=10, n_estimators=500, random_state=42; total time=  35.9s\n",
      "[CV] END bootstrap=False, criterion=entropy, max_depth=10, min_samples_leaf=2, min_samples_split=10, n_estimators=500, random_state=42; total time=  35.7s\n",
      "[CV] END bootstrap=False, criterion=gini, max_depth=40, min_samples_leaf=1, min_samples_split=10, n_estimators=300, random_state=42; total time= 1.0min\n",
      "[CV] END bootstrap=False, criterion=gini, max_depth=40, min_samples_leaf=1, min_samples_split=10, n_estimators=300, random_state=42; total time= 1.0min\n",
      "[CV] END bootstrap=False, criterion=gini, max_depth=40, min_samples_leaf=1, min_samples_split=10, n_estimators=300, random_state=42; total time=  59.8s\n",
      "[CV] END bootstrap=False, criterion=gini, max_depth=40, min_samples_leaf=1, min_samples_split=10, n_estimators=300, random_state=42; total time= 1.0min\n",
      "[CV] END bootstrap=False, criterion=gini, max_depth=40, min_samples_leaf=1, min_samples_split=10, n_estimators=300, random_state=42; total time= 1.1min\n",
      "[CV] END bootstrap=True, criterion=gini, max_depth=40, min_samples_leaf=2, min_samples_split=2, n_estimators=200, random_state=42; total time=  26.3s\n",
      "[CV] END bootstrap=True, criterion=gini, max_depth=40, min_samples_leaf=2, min_samples_split=2, n_estimators=200, random_state=42; total time=  28.6s\n",
      "[CV] END bootstrap=True, criterion=gini, max_depth=40, min_samples_leaf=2, min_samples_split=2, n_estimators=200, random_state=42; total time=  27.8s\n",
      "[CV] END bootstrap=True, criterion=gini, max_depth=40, min_samples_leaf=2, min_samples_split=2, n_estimators=200, random_state=42; total time=  26.7s\n",
      "[CV] END bootstrap=True, criterion=gini, max_depth=40, min_samples_leaf=2, min_samples_split=2, n_estimators=200, random_state=42; total time=  26.3s\n",
      "[CV] END bootstrap=True, criterion=gini, max_depth=10, min_samples_leaf=1, min_samples_split=5, n_estimators=400, random_state=42; total time=  16.7s\n",
      "[CV] END bootstrap=True, criterion=gini, max_depth=10, min_samples_leaf=1, min_samples_split=5, n_estimators=400, random_state=42; total time=  16.6s\n",
      "[CV] END bootstrap=True, criterion=gini, max_depth=10, min_samples_leaf=1, min_samples_split=5, n_estimators=400, random_state=42; total time=  17.4s\n",
      "[CV] END bootstrap=True, criterion=gini, max_depth=10, min_samples_leaf=1, min_samples_split=5, n_estimators=400, random_state=42; total time=  16.6s\n",
      "[CV] END bootstrap=True, criterion=gini, max_depth=10, min_samples_leaf=1, min_samples_split=5, n_estimators=400, random_state=42; total time=  16.8s\n",
      "[CV] END bootstrap=True, criterion=gini, max_depth=40, min_samples_leaf=4, min_samples_split=2, n_estimators=100, random_state=42; total time=  11.1s\n",
      "[CV] END bootstrap=True, criterion=gini, max_depth=40, min_samples_leaf=4, min_samples_split=2, n_estimators=100, random_state=42; total time=  11.2s\n",
      "[CV] END bootstrap=True, criterion=gini, max_depth=40, min_samples_leaf=4, min_samples_split=2, n_estimators=100, random_state=42; total time=  11.1s\n",
      "[CV] END bootstrap=True, criterion=gini, max_depth=40, min_samples_leaf=4, min_samples_split=2, n_estimators=100, random_state=42; total time=  11.1s\n",
      "[CV] END bootstrap=True, criterion=gini, max_depth=40, min_samples_leaf=4, min_samples_split=2, n_estimators=100, random_state=42; total time=  11.1s\n",
      "[CV] END bootstrap=True, criterion=entropy, max_depth=10, min_samples_leaf=1, min_samples_split=5, n_estimators=500, random_state=42; total time=  22.6s\n",
      "[CV] END bootstrap=True, criterion=entropy, max_depth=10, min_samples_leaf=1, min_samples_split=5, n_estimators=500, random_state=42; total time=  22.5s\n",
      "[CV] END bootstrap=True, criterion=entropy, max_depth=10, min_samples_leaf=1, min_samples_split=5, n_estimators=500, random_state=42; total time=  22.8s\n",
      "[CV] END bootstrap=True, criterion=entropy, max_depth=10, min_samples_leaf=1, min_samples_split=5, n_estimators=500, random_state=42; total time=  22.8s\n",
      "[CV] END bootstrap=True, criterion=entropy, max_depth=10, min_samples_leaf=1, min_samples_split=5, n_estimators=500, random_state=42; total time=  22.7s\n",
      "[CV] END bootstrap=True, criterion=gini, max_depth=30, min_samples_leaf=2, min_samples_split=10, n_estimators=200, random_state=42; total time=  23.6s\n",
      "[CV] END bootstrap=True, criterion=gini, max_depth=30, min_samples_leaf=2, min_samples_split=10, n_estimators=200, random_state=42; total time=  23.3s\n",
      "[CV] END bootstrap=True, criterion=gini, max_depth=30, min_samples_leaf=2, min_samples_split=10, n_estimators=200, random_state=42; total time=  23.5s\n",
      "[CV] END bootstrap=True, criterion=gini, max_depth=30, min_samples_leaf=2, min_samples_split=10, n_estimators=200, random_state=42; total time=  23.4s\n",
      "[CV] END bootstrap=True, criterion=gini, max_depth=30, min_samples_leaf=2, min_samples_split=10, n_estimators=200, random_state=42; total time=  23.2s\n",
      "[CV] END bootstrap=False, criterion=gini, max_depth=None, min_samples_leaf=4, min_samples_split=10, n_estimators=100, random_state=42; total time=  16.9s\n",
      "[CV] END bootstrap=False, criterion=gini, max_depth=None, min_samples_leaf=4, min_samples_split=10, n_estimators=100, random_state=42; total time=  16.8s\n",
      "[CV] END bootstrap=False, criterion=gini, max_depth=None, min_samples_leaf=4, min_samples_split=10, n_estimators=100, random_state=42; total time=  16.8s\n",
      "[CV] END bootstrap=False, criterion=gini, max_depth=None, min_samples_leaf=4, min_samples_split=10, n_estimators=100, random_state=42; total time=  16.9s\n",
      "[CV] END bootstrap=False, criterion=gini, max_depth=None, min_samples_leaf=4, min_samples_split=10, n_estimators=100, random_state=42; total time=  16.8s\n",
      "[CV] END bootstrap=True, criterion=entropy, max_depth=20, min_samples_leaf=1, min_samples_split=10, n_estimators=500, random_state=42; total time=  48.2s\n",
      "[CV] END bootstrap=True, criterion=entropy, max_depth=20, min_samples_leaf=1, min_samples_split=10, n_estimators=500, random_state=42; total time=  48.0s\n",
      "[CV] END bootstrap=True, criterion=entropy, max_depth=20, min_samples_leaf=1, min_samples_split=10, n_estimators=500, random_state=42; total time=  48.2s\n",
      "[CV] END bootstrap=True, criterion=entropy, max_depth=20, min_samples_leaf=1, min_samples_split=10, n_estimators=500, random_state=42; total time=  48.4s\n",
      "[CV] END bootstrap=True, criterion=entropy, max_depth=20, min_samples_leaf=1, min_samples_split=10, n_estimators=500, random_state=42; total time=  48.2s\n",
      "[CV] END bootstrap=True, criterion=entropy, max_depth=10, min_samples_leaf=4, min_samples_split=5, n_estimators=300, random_state=42; total time=  13.6s\n",
      "[CV] END bootstrap=True, criterion=entropy, max_depth=10, min_samples_leaf=4, min_samples_split=5, n_estimators=300, random_state=42; total time=  13.5s\n",
      "[CV] END bootstrap=True, criterion=entropy, max_depth=10, min_samples_leaf=4, min_samples_split=5, n_estimators=300, random_state=42; total time=  13.6s\n",
      "[CV] END bootstrap=True, criterion=entropy, max_depth=10, min_samples_leaf=4, min_samples_split=5, n_estimators=300, random_state=42; total time=  13.5s\n",
      "[CV] END bootstrap=True, criterion=entropy, max_depth=10, min_samples_leaf=4, min_samples_split=5, n_estimators=300, random_state=42; total time=  13.5s\n",
      "[CV] END bootstrap=False, criterion=entropy, max_depth=None, min_samples_leaf=1, min_samples_split=2, n_estimators=300, random_state=42; total time= 1.1min\n",
      "[CV] END bootstrap=False, criterion=entropy, max_depth=None, min_samples_leaf=1, min_samples_split=2, n_estimators=300, random_state=42; total time= 1.1min\n",
      "[CV] END bootstrap=False, criterion=entropy, max_depth=None, min_samples_leaf=1, min_samples_split=2, n_estimators=300, random_state=42; total time= 1.1min\n",
      "[CV] END bootstrap=False, criterion=entropy, max_depth=None, min_samples_leaf=1, min_samples_split=2, n_estimators=300, random_state=42; total time= 1.1min\n",
      "[CV] END bootstrap=False, criterion=entropy, max_depth=None, min_samples_leaf=1, min_samples_split=2, n_estimators=300, random_state=42; total time= 1.1min\n",
      "[CV] END bootstrap=True, criterion=gini, max_depth=None, min_samples_leaf=1, min_samples_split=2, n_estimators=500, random_state=42; total time= 1.3min\n",
      "[CV] END bootstrap=True, criterion=gini, max_depth=None, min_samples_leaf=1, min_samples_split=2, n_estimators=500, random_state=42; total time= 1.3min\n",
      "[CV] END bootstrap=True, criterion=gini, max_depth=None, min_samples_leaf=1, min_samples_split=2, n_estimators=500, random_state=42; total time= 1.3min\n",
      "[CV] END bootstrap=True, criterion=gini, max_depth=None, min_samples_leaf=1, min_samples_split=2, n_estimators=500, random_state=42; total time= 1.3min\n",
      "[CV] END bootstrap=True, criterion=gini, max_depth=None, min_samples_leaf=1, min_samples_split=2, n_estimators=500, random_state=42; total time= 1.3min\n",
      "[CV] END bootstrap=True, criterion=gini, max_depth=10, min_samples_leaf=1, min_samples_split=10, n_estimators=300, random_state=42; total time=  12.6s\n",
      "[CV] END bootstrap=True, criterion=gini, max_depth=10, min_samples_leaf=1, min_samples_split=10, n_estimators=300, random_state=42; total time=  12.7s\n",
      "[CV] END bootstrap=True, criterion=gini, max_depth=10, min_samples_leaf=1, min_samples_split=10, n_estimators=300, random_state=42; total time=  12.6s\n",
      "[CV] END bootstrap=True, criterion=gini, max_depth=10, min_samples_leaf=1, min_samples_split=10, n_estimators=300, random_state=42; total time=  12.7s\n",
      "[CV] END bootstrap=True, criterion=gini, max_depth=10, min_samples_leaf=1, min_samples_split=10, n_estimators=300, random_state=42; total time=  12.7s\n",
      "[CV] END bootstrap=True, criterion=entropy, max_depth=10, min_samples_leaf=1, min_samples_split=5, n_estimators=300, random_state=42; total time=  14.0s\n",
      "[CV] END bootstrap=True, criterion=entropy, max_depth=10, min_samples_leaf=1, min_samples_split=5, n_estimators=300, random_state=42; total time=  13.8s\n",
      "[CV] END bootstrap=True, criterion=entropy, max_depth=10, min_samples_leaf=1, min_samples_split=5, n_estimators=300, random_state=42; total time=  13.9s\n",
      "[CV] END bootstrap=True, criterion=entropy, max_depth=10, min_samples_leaf=1, min_samples_split=5, n_estimators=300, random_state=42; total time=  13.9s\n",
      "[CV] END bootstrap=True, criterion=entropy, max_depth=10, min_samples_leaf=1, min_samples_split=5, n_estimators=300, random_state=42; total time=  13.9s\n",
      "[CV] END bootstrap=True, criterion=gini, max_depth=30, min_samples_leaf=4, min_samples_split=5, n_estimators=100, random_state=42; total time=  10.7s\n",
      "[CV] END bootstrap=True, criterion=gini, max_depth=30, min_samples_leaf=4, min_samples_split=5, n_estimators=100, random_state=42; total time=  10.7s\n",
      "[CV] END bootstrap=True, criterion=gini, max_depth=30, min_samples_leaf=4, min_samples_split=5, n_estimators=100, random_state=42; total time=  10.8s\n",
      "[CV] END bootstrap=True, criterion=gini, max_depth=30, min_samples_leaf=4, min_samples_split=5, n_estimators=100, random_state=42; total time=  10.8s\n",
      "[CV] END bootstrap=True, criterion=gini, max_depth=30, min_samples_leaf=4, min_samples_split=5, n_estimators=100, random_state=42; total time=  11.0s\n",
      "[CV] END bootstrap=False, criterion=entropy, max_depth=30, min_samples_leaf=2, min_samples_split=10, n_estimators=500, random_state=42; total time= 1.4min\n",
      "[CV] END bootstrap=False, criterion=entropy, max_depth=30, min_samples_leaf=2, min_samples_split=10, n_estimators=500, random_state=42; total time= 1.5min\n",
      "[CV] END bootstrap=False, criterion=entropy, max_depth=30, min_samples_leaf=2, min_samples_split=10, n_estimators=500, random_state=42; total time= 1.5min\n",
      "[CV] END bootstrap=False, criterion=entropy, max_depth=30, min_samples_leaf=2, min_samples_split=10, n_estimators=500, random_state=42; total time= 1.4min\n",
      "[CV] END bootstrap=False, criterion=entropy, max_depth=30, min_samples_leaf=2, min_samples_split=10, n_estimators=500, random_state=42; total time= 1.4min\n",
      "[CV] END bootstrap=False, criterion=gini, max_depth=40, min_samples_leaf=2, min_samples_split=2, n_estimators=500, random_state=42; total time= 1.6min\n",
      "[CV] END bootstrap=False, criterion=gini, max_depth=40, min_samples_leaf=2, min_samples_split=2, n_estimators=500, random_state=42; total time= 1.6min\n",
      "[CV] END bootstrap=False, criterion=gini, max_depth=40, min_samples_leaf=2, min_samples_split=2, n_estimators=500, random_state=42; total time= 1.6min\n",
      "[CV] END bootstrap=False, criterion=gini, max_depth=40, min_samples_leaf=2, min_samples_split=2, n_estimators=500, random_state=42; total time= 1.6min\n",
      "[CV] END bootstrap=False, criterion=gini, max_depth=40, min_samples_leaf=2, min_samples_split=2, n_estimators=500, random_state=42; total time= 1.6min\n",
      "[CV] END bootstrap=False, criterion=gini, max_depth=None, min_samples_leaf=2, min_samples_split=10, n_estimators=200, random_state=42; total time=  39.1s\n",
      "[CV] END bootstrap=False, criterion=gini, max_depth=None, min_samples_leaf=2, min_samples_split=10, n_estimators=200, random_state=42; total time=  39.2s\n",
      "[CV] END bootstrap=False, criterion=gini, max_depth=None, min_samples_leaf=2, min_samples_split=10, n_estimators=200, random_state=42; total time=  39.3s\n",
      "[CV] END bootstrap=False, criterion=gini, max_depth=None, min_samples_leaf=2, min_samples_split=10, n_estimators=200, random_state=42; total time=  39.2s\n",
      "[CV] END bootstrap=False, criterion=gini, max_depth=None, min_samples_leaf=2, min_samples_split=10, n_estimators=200, random_state=42; total time=  39.3s\n",
      "[CV] END bootstrap=True, criterion=gini, max_depth=30, min_samples_leaf=1, min_samples_split=10, n_estimators=200, random_state=42; total time=  25.4s\n",
      "[CV] END bootstrap=True, criterion=gini, max_depth=30, min_samples_leaf=1, min_samples_split=10, n_estimators=200, random_state=42; total time=  25.6s\n",
      "[CV] END bootstrap=True, criterion=gini, max_depth=30, min_samples_leaf=1, min_samples_split=10, n_estimators=200, random_state=42; total time=  25.5s\n",
      "[CV] END bootstrap=True, criterion=gini, max_depth=30, min_samples_leaf=1, min_samples_split=10, n_estimators=200, random_state=42; total time=  25.5s\n",
      "[CV] END bootstrap=True, criterion=gini, max_depth=30, min_samples_leaf=1, min_samples_split=10, n_estimators=200, random_state=42; total time=  25.4s\n",
      "[CV] END bootstrap=True, criterion=entropy, max_depth=20, min_samples_leaf=4, min_samples_split=2, n_estimators=200, random_state=42; total time=  18.2s\n",
      "[CV] END bootstrap=True, criterion=entropy, max_depth=20, min_samples_leaf=4, min_samples_split=2, n_estimators=200, random_state=42; total time=  18.2s\n",
      "[CV] END bootstrap=True, criterion=entropy, max_depth=20, min_samples_leaf=4, min_samples_split=2, n_estimators=200, random_state=42; total time=  18.1s\n",
      "[CV] END bootstrap=True, criterion=entropy, max_depth=20, min_samples_leaf=4, min_samples_split=2, n_estimators=200, random_state=42; total time=  18.2s\n",
      "[CV] END bootstrap=True, criterion=entropy, max_depth=20, min_samples_leaf=4, min_samples_split=2, n_estimators=200, random_state=42; total time=  18.2s\n",
      "[CV] END bootstrap=False, criterion=entropy, max_depth=20, min_samples_leaf=1, min_samples_split=2, n_estimators=200, random_state=42; total time=  29.1s\n",
      "[CV] END bootstrap=False, criterion=entropy, max_depth=20, min_samples_leaf=1, min_samples_split=2, n_estimators=200, random_state=42; total time=  29.5s\n",
      "[CV] END bootstrap=False, criterion=entropy, max_depth=20, min_samples_leaf=1, min_samples_split=2, n_estimators=200, random_state=42; total time=  29.1s\n",
      "[CV] END bootstrap=False, criterion=entropy, max_depth=20, min_samples_leaf=1, min_samples_split=2, n_estimators=200, random_state=42; total time=  29.3s\n",
      "[CV] END bootstrap=False, criterion=entropy, max_depth=20, min_samples_leaf=1, min_samples_split=2, n_estimators=200, random_state=42; total time=  29.1s\n",
      "[CV] END bootstrap=False, criterion=gini, max_depth=20, min_samples_leaf=4, min_samples_split=2, n_estimators=500, random_state=42; total time= 1.0min\n",
      "[CV] END bootstrap=False, criterion=gini, max_depth=20, min_samples_leaf=4, min_samples_split=2, n_estimators=500, random_state=42; total time= 1.0min\n",
      "[CV] END bootstrap=False, criterion=gini, max_depth=20, min_samples_leaf=4, min_samples_split=2, n_estimators=500, random_state=42; total time= 1.0min\n",
      "[CV] END bootstrap=False, criterion=gini, max_depth=20, min_samples_leaf=4, min_samples_split=2, n_estimators=500, random_state=42; total time= 1.0min\n",
      "[CV] END bootstrap=False, criterion=gini, max_depth=20, min_samples_leaf=4, min_samples_split=2, n_estimators=500, random_state=42; total time= 1.0min\n",
      "[CV] END bootstrap=True, criterion=entropy, max_depth=10, min_samples_leaf=1, min_samples_split=5, n_estimators=200, random_state=42; total time=   9.6s\n",
      "[CV] END bootstrap=True, criterion=entropy, max_depth=10, min_samples_leaf=1, min_samples_split=5, n_estimators=200, random_state=42; total time=   9.5s\n",
      "[CV] END bootstrap=True, criterion=entropy, max_depth=10, min_samples_leaf=1, min_samples_split=5, n_estimators=200, random_state=42; total time=   9.7s\n",
      "[CV] END bootstrap=True, criterion=entropy, max_depth=10, min_samples_leaf=1, min_samples_split=5, n_estimators=200, random_state=42; total time=   9.7s\n",
      "[CV] END bootstrap=True, criterion=entropy, max_depth=10, min_samples_leaf=1, min_samples_split=5, n_estimators=200, random_state=42; total time=   9.6s\n",
      "[CV] END bootstrap=True, criterion=entropy, max_depth=30, min_samples_leaf=2, min_samples_split=10, n_estimators=200, random_state=42; total time=  23.5s\n",
      "[CV] END bootstrap=True, criterion=entropy, max_depth=30, min_samples_leaf=2, min_samples_split=10, n_estimators=200, random_state=42; total time=  23.8s\n",
      "[CV] END bootstrap=True, criterion=entropy, max_depth=30, min_samples_leaf=2, min_samples_split=10, n_estimators=200, random_state=42; total time=  23.8s\n",
      "[CV] END bootstrap=True, criterion=entropy, max_depth=30, min_samples_leaf=2, min_samples_split=10, n_estimators=200, random_state=42; total time=  23.8s\n",
      "[CV] END bootstrap=True, criterion=entropy, max_depth=30, min_samples_leaf=2, min_samples_split=10, n_estimators=200, random_state=42; total time=  23.9s\n",
      "[CV] END bootstrap=False, criterion=gini, max_depth=20, min_samples_leaf=1, min_samples_split=10, n_estimators=400, random_state=42; total time=  52.3s\n",
      "[CV] END bootstrap=False, criterion=gini, max_depth=20, min_samples_leaf=1, min_samples_split=10, n_estimators=400, random_state=42; total time=  52.1s\n",
      "[CV] END bootstrap=False, criterion=gini, max_depth=20, min_samples_leaf=1, min_samples_split=10, n_estimators=400, random_state=42; total time=  52.2s\n",
      "[CV] END bootstrap=False, criterion=gini, max_depth=20, min_samples_leaf=1, min_samples_split=10, n_estimators=400, random_state=42; total time=  52.2s\n",
      "[CV] END bootstrap=False, criterion=gini, max_depth=20, min_samples_leaf=1, min_samples_split=10, n_estimators=400, random_state=42; total time=  52.7s\n",
      "[CV] END bootstrap=True, criterion=entropy, max_depth=10, min_samples_leaf=1, min_samples_split=2, n_estimators=200, random_state=42; total time=   9.6s\n",
      "[CV] END bootstrap=True, criterion=entropy, max_depth=10, min_samples_leaf=1, min_samples_split=2, n_estimators=200, random_state=42; total time=   9.6s\n",
      "[CV] END bootstrap=True, criterion=entropy, max_depth=10, min_samples_leaf=1, min_samples_split=2, n_estimators=200, random_state=42; total time=   9.7s\n",
      "[CV] END bootstrap=True, criterion=entropy, max_depth=10, min_samples_leaf=1, min_samples_split=2, n_estimators=200, random_state=42; total time=   9.6s\n",
      "[CV] END bootstrap=True, criterion=entropy, max_depth=10, min_samples_leaf=1, min_samples_split=2, n_estimators=200, random_state=42; total time=   9.7s\n",
      "[CV] END bootstrap=False, criterion=gini, max_depth=10, min_samples_leaf=1, min_samples_split=2, n_estimators=200, random_state=42; total time=  11.6s\n",
      "[CV] END bootstrap=False, criterion=gini, max_depth=10, min_samples_leaf=1, min_samples_split=2, n_estimators=200, random_state=42; total time=  11.7s\n",
      "[CV] END bootstrap=False, criterion=gini, max_depth=10, min_samples_leaf=1, min_samples_split=2, n_estimators=200, random_state=42; total time=  12.1s\n",
      "[CV] END bootstrap=False, criterion=gini, max_depth=10, min_samples_leaf=1, min_samples_split=2, n_estimators=200, random_state=42; total time=  11.7s\n",
      "[CV] END bootstrap=False, criterion=gini, max_depth=10, min_samples_leaf=1, min_samples_split=2, n_estimators=200, random_state=42; total time=  11.6s\n",
      "[CV] END bootstrap=True, criterion=gini, max_depth=20, min_samples_leaf=1, min_samples_split=5, n_estimators=100, random_state=42; total time=   9.9s\n",
      "[CV] END bootstrap=True, criterion=gini, max_depth=20, min_samples_leaf=1, min_samples_split=5, n_estimators=100, random_state=42; total time=   9.9s\n",
      "[CV] END bootstrap=True, criterion=gini, max_depth=20, min_samples_leaf=1, min_samples_split=5, n_estimators=100, random_state=42; total time=  10.0s\n",
      "[CV] END bootstrap=True, criterion=gini, max_depth=20, min_samples_leaf=1, min_samples_split=5, n_estimators=100, random_state=42; total time=  10.0s\n",
      "[CV] END bootstrap=True, criterion=gini, max_depth=20, min_samples_leaf=1, min_samples_split=5, n_estimators=100, random_state=42; total time=  10.0s\n",
      "[CV] END bootstrap=False, criterion=entropy, max_depth=30, min_samples_leaf=1, min_samples_split=5, n_estimators=100, random_state=42; total time=  19.5s\n",
      "[CV] END bootstrap=False, criterion=entropy, max_depth=30, min_samples_leaf=1, min_samples_split=5, n_estimators=100, random_state=42; total time=  19.2s\n",
      "[CV] END bootstrap=False, criterion=entropy, max_depth=30, min_samples_leaf=1, min_samples_split=5, n_estimators=100, random_state=42; total time=  19.2s\n",
      "[CV] END bootstrap=False, criterion=entropy, max_depth=30, min_samples_leaf=1, min_samples_split=5, n_estimators=100, random_state=42; total time=  18.9s\n",
      "[CV] END bootstrap=False, criterion=entropy, max_depth=30, min_samples_leaf=1, min_samples_split=5, n_estimators=100, random_state=42; total time=  19.0s\n",
      "[CV] END bootstrap=False, criterion=entropy, max_depth=30, min_samples_leaf=1, min_samples_split=10, n_estimators=400, random_state=42; total time= 1.2min\n",
      "[CV] END bootstrap=False, criterion=entropy, max_depth=30, min_samples_leaf=1, min_samples_split=10, n_estimators=400, random_state=42; total time= 1.2min\n",
      "[CV] END bootstrap=False, criterion=entropy, max_depth=30, min_samples_leaf=1, min_samples_split=10, n_estimators=400, random_state=42; total time= 1.2min\n",
      "[CV] END bootstrap=False, criterion=entropy, max_depth=30, min_samples_leaf=1, min_samples_split=10, n_estimators=400, random_state=42; total time= 1.2min\n",
      "[CV] END bootstrap=False, criterion=entropy, max_depth=30, min_samples_leaf=1, min_samples_split=10, n_estimators=400, random_state=42; total time= 1.2min\n",
      "[CV] END bootstrap=False, criterion=gini, max_depth=None, min_samples_leaf=4, min_samples_split=2, n_estimators=300, random_state=42; total time=  49.3s\n",
      "[CV] END bootstrap=False, criterion=gini, max_depth=None, min_samples_leaf=4, min_samples_split=2, n_estimators=300, random_state=42; total time=  49.6s\n",
      "[CV] END bootstrap=False, criterion=gini, max_depth=None, min_samples_leaf=4, min_samples_split=2, n_estimators=300, random_state=42; total time=  49.2s\n",
      "[CV] END bootstrap=False, criterion=gini, max_depth=None, min_samples_leaf=4, min_samples_split=2, n_estimators=300, random_state=42; total time=  49.4s\n",
      "[CV] END bootstrap=False, criterion=gini, max_depth=None, min_samples_leaf=4, min_samples_split=2, n_estimators=300, random_state=42; total time=  49.1s\n",
      "[CV] END bootstrap=True, criterion=gini, max_depth=30, min_samples_leaf=4, min_samples_split=10, n_estimators=300, random_state=42; total time=  30.5s\n",
      "[CV] END bootstrap=True, criterion=gini, max_depth=30, min_samples_leaf=4, min_samples_split=10, n_estimators=300, random_state=42; total time=  31.0s\n",
      "[CV] END bootstrap=True, criterion=gini, max_depth=30, min_samples_leaf=4, min_samples_split=10, n_estimators=300, random_state=42; total time=  30.6s\n",
      "[CV] END bootstrap=True, criterion=gini, max_depth=30, min_samples_leaf=4, min_samples_split=10, n_estimators=300, random_state=42; total time=  31.0s\n",
      "[CV] END bootstrap=True, criterion=gini, max_depth=30, min_samples_leaf=4, min_samples_split=10, n_estimators=300, random_state=42; total time=  30.6s\n",
      "[CV] END bootstrap=False, criterion=gini, max_depth=20, min_samples_leaf=4, min_samples_split=10, n_estimators=300, random_state=42; total time=  35.2s\n",
      "[CV] END bootstrap=False, criterion=gini, max_depth=20, min_samples_leaf=4, min_samples_split=10, n_estimators=300, random_state=42; total time=  35.3s\n",
      "[CV] END bootstrap=False, criterion=gini, max_depth=20, min_samples_leaf=4, min_samples_split=10, n_estimators=300, random_state=42; total time=  35.2s\n",
      "[CV] END bootstrap=False, criterion=gini, max_depth=20, min_samples_leaf=4, min_samples_split=10, n_estimators=300, random_state=42; total time=  35.3s\n",
      "[CV] END bootstrap=False, criterion=gini, max_depth=20, min_samples_leaf=4, min_samples_split=10, n_estimators=300, random_state=42; total time=  35.2s\n",
      "[CV] END bootstrap=True, criterion=entropy, max_depth=10, min_samples_leaf=4, min_samples_split=2, n_estimators=100, random_state=42; total time=   4.8s\n",
      "[CV] END bootstrap=True, criterion=entropy, max_depth=10, min_samples_leaf=4, min_samples_split=2, n_estimators=100, random_state=42; total time=   4.7s\n",
      "[CV] END bootstrap=True, criterion=entropy, max_depth=10, min_samples_leaf=4, min_samples_split=2, n_estimators=100, random_state=42; total time=   4.8s\n",
      "[CV] END bootstrap=True, criterion=entropy, max_depth=10, min_samples_leaf=4, min_samples_split=2, n_estimators=100, random_state=42; total time=   4.8s\n",
      "[CV] END bootstrap=True, criterion=entropy, max_depth=10, min_samples_leaf=4, min_samples_split=2, n_estimators=100, random_state=42; total time=   4.8s\n",
      "Best Score: 0.9321022121479519\n",
      "Best Parameters: {'random_state': 42, 'n_estimators': 500, 'min_samples_split': 2, 'min_samples_leaf': 1, 'max_depth': None, 'criterion': 'gini', 'bootstrap': True}\n"
     ]
    },
    {
     "data": {
      "text/plain": [
       "['checkpoints/rf/best_model.joblib']"
      ]
     },
     "execution_count": 9,
     "metadata": {},
     "output_type": "execute_result"
    }
   ],
   "source": [
    "from sklearn.ensemble import RandomForestClassifier\n",
    "from sklearn.model_selection import RandomizedSearchCV\n",
    "from joblib import dump, load\n",
    "\n",
    "# Define the parameter grid\n",
    "param_grid = {\n",
    "    'n_estimators': [100, 200, 300, 400, 500],  # Number of trees in the forest\n",
    "    'criterion': ['gini', 'entropy'],           # Split criterion\n",
    "    'max_depth': [None, 10, 20, 30, 40],        # Maximum depth of the tree\n",
    "    'min_samples_split': [2, 5, 10],            # Minimum samples required to split an internal node\n",
    "    'min_samples_leaf': [1, 2, 4],              # Minimum number of samples required to be at a leaf node\n",
    "    'bootstrap': [True, False],                 # Whether bootstrap samples are used\n",
    "    'random_state': [42]                        # Random seed for reproducibility\n",
    "}\n",
    "\n",
    "# Create a RandomForestClassifier\n",
    "rf_classifier = RandomForestClassifier()\n",
    "\n",
    "# Create RandomizedSearchCV\n",
    "random_search = RandomizedSearchCV(\n",
    "    estimator=rf_classifier,\n",
    "    param_distributions=param_grid,\n",
    "    n_iter=50,            # Number of parameter settings that are sampled\n",
    "    scoring='accuracy',   # Scoring metric for evaluation\n",
    "    cv=5,                 # Cross-validation folds\n",
    "    verbose=2,\n",
    ")\n",
    "\n",
    "# Fit the RandomizedSearchCV to your data\n",
    "random_search.fit(X, y)\n",
    "\n",
    "print(\"Best Score:\", random_search.best_score_)\n",
    "print(\"Best Parameters:\", random_search.best_params_)\n",
    "\n",
    "best_model = random_search.best_estimator_\n",
    "dump(best_model, 'checkpoints/rf/best_model.joblib')"
   ]
  },
  {
   "cell_type": "code",
   "execution_count": null,
   "metadata": {},
   "outputs": [],
   "source": [
    "df2 = X_val.copy()\n",
    "df2[\"y_pred\"] = y_pred == y_val\n",
    "df2[\"y\"] = y_val\n",
    "\n",
    "df1 = X_train.copy()\n",
    "df1[\"y_pred\"] = model.predict(X_train) == y_train\n",
    "df1[\"y\"] = y_train.values"
   ]
  },
  {
   "cell_type": "code",
   "execution_count": null,
   "metadata": {},
   "outputs": [],
   "source": [
    "df1['y_pred'].mean()"
   ]
  },
  {
   "cell_type": "code",
   "execution_count": null,
   "metadata": {},
   "outputs": [],
   "source": [
    "df2['y_pred'].mean()"
   ]
  },
  {
   "cell_type": "code",
   "execution_count": null,
   "metadata": {},
   "outputs": [],
   "source": [
    "print(\"train mistakes:\")\n",
    "df1[df1[\"y_pred\"] == False][\"y\"].value_counts()"
   ]
  }
 ],
 "metadata": {
  "kernelspec": {
   "display_name": "base",
   "language": "python",
   "name": "python3"
  },
  "language_info": {
   "codemirror_mode": {
    "name": "ipython",
    "version": 3
   },
   "file_extension": ".py",
   "mimetype": "text/x-python",
   "name": "python",
   "nbconvert_exporter": "python",
   "pygments_lexer": "ipython3",
   "version": "3.8.13"
  },
  "orig_nbformat": 4
 },
 "nbformat": 4,
 "nbformat_minor": 2
}
